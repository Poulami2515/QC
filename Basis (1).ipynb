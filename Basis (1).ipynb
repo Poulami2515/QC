{
 "cells": [
  {
   "cell_type": "markdown",
   "id": "7ff7bd70-49ad-4fd4-b2ce-3b5a7ba763c3",
   "metadata": {},
   "source": [
    "### IMPORTING LIBRARIES"
   ]
  },
  {
   "cell_type": "code",
   "execution_count": 1,
   "id": "9e752f33-fc5e-4249-a421-7097e4685143",
   "metadata": {},
   "outputs": [],
   "source": [
    "import numpy as np\n",
    "from qiskit import QuantumCircuit\n",
    "from qiskit.quantum_info import Statevector\n",
    "from qiskit.visualization import plot_state_qsphere, plot_histogram\n",
    "from qiskit_aer import AerSimulator\n",
    "from qiskit import QuantumCircuit\n",
    "from qiskit.visualization import circuit_drawer"
   ]
  },
  {
   "cell_type": "markdown",
   "id": "8cb6fcba-6e13-4248-9f5e-410133af6f36",
   "metadata": {},
   "source": [
    "### REQUIRED RESULTS"
   ]
  },
  {
   "cell_type": "code",
   "execution_count": 2,
   "id": "dc1a0733-136c-4b2e-8b13-1e0b30d355f2",
   "metadata": {},
   "outputs": [
    {
     "name": "stdout",
     "output_type": "stream",
     "text": [
      "Probability of measuring |ψ1⟩ after measuring |+⟩ in this basis: 0.9714045207910319\n",
      "Probability of measuring |ψ2⟩ after measuring |+⟩ in this basis: 0.028595479208968298\n"
     ]
    }
   ],
   "source": [
    "# Define the states psi_1 and psi_2\n",
    "alpha = 1/3**0.5\n",
    "beta = (2/3)**0.5\n",
    "psi_1 = [alpha, beta]\n",
    "psi_2 = [beta, -alpha]\n",
    "\n",
    "# Calculated probabilities\n",
    "probability_1 = (alpha+beta)**2/2\n",
    "probability_2 = (beta-alpha)**2/2\n",
    "\n",
    "print(\"Probability of measuring |ψ1⟩ after measuring |+⟩ in this basis:\", probability_1)\n",
    "print(\"Probability of measuring |ψ2⟩ after measuring |+⟩ in this basis:\", probability_2)"
   ]
  },
  {
   "cell_type": "code",
   "execution_count": 3,
   "id": "805770a7-847f-445f-8270-a9ab86d25368",
   "metadata": {},
   "outputs": [
    {
     "name": "stdout",
     "output_type": "stream",
     "text": [
      "Amplitude of |ψ1⟩ : \n",
      "0.9855985596534889\n",
      "\n",
      "Amplitude of |ψ2⟩ : \n",
      "0.16910197872576269\n"
     ]
    }
   ],
   "source": [
    "print(\"Amplitude of |ψ1⟩ : \")\n",
    "print((alpha+beta)/2**0.5)\n",
    "print()\n",
    "print(\"Amplitude of |ψ2⟩ : \")\n",
    "print((beta-alpha)/2**0.5)"
   ]
  },
  {
   "cell_type": "markdown",
   "id": "f0b17c28-4f55-4112-b93b-fdf9616f7927",
   "metadata": {},
   "source": [
    "### SIMULATING CIRCUIT"
   ]
  },
  {
   "cell_type": "code",
   "execution_count": 17,
   "id": "c68df3e2-310f-4e1b-9a88-1ae2c9668830",
   "metadata": {},
   "outputs": [],
   "source": [
    "# Create a quantum circuit with 1 qubit\n",
    "qc = QuantumCircuit(1)\n",
    "\n",
    "# Initialize the qubit to the |+> state\n",
    "qc.h(0)\n",
    "\n",
    "# Define the unitary transformation to change basis\n",
    "unitary_transformation = [[1/3**0.5, (2/3)**0.5], [(2/3)**0.5, -1/3**0.5]]\n",
    "\n",
    "# Apply the unitary transformation to change basis\n",
    "qc.unitary(unitary_transformation, [0], label='U')\n",
    "qc.save_statevector()\n",
    "\n",
    "# Measure the qubit in the computational basis\n",
    "qc.measure_all()\n",
    "\n",
    "# Simulate the circuit\n",
    "s=2000 #number of shots\n",
    "result = AerSimulator().run(qc, shots=s, memory=True).result()\n",
    "#print(result.data())\n",
    "\n",
    "#obtaining state vectors\n",
    "state_vector=result.get_statevector()"
   ]
  },
  {
   "cell_type": "code",
   "execution_count": 24,
   "id": "d2500652-37ed-447e-b37a-4dbf797b86f8",
   "metadata": {},
   "outputs": [
    {
     "data": {
      "text/latex": [
       "$$0.9855985597 |0\\rangle+0.1691019787 |1\\rangle$$"
      ],
      "text/plain": [
       "<IPython.core.display.Latex object>"
      ]
     },
     "execution_count": 24,
     "metadata": {},
     "output_type": "execute_result"
    }
   ],
   "source": [
    "state_vector.draw('latex')"
   ]
  },
  {
   "cell_type": "code",
   "execution_count": 25,
   "id": "6fb97972-acf4-4ed2-af05-0da809e78e90",
   "metadata": {},
   "outputs": [
    {
     "name": "stdout",
     "output_type": "stream",
     "text": [
      "Probability of measuring |ψ1⟩ after measuring |+⟩ in this basis: (0.9714045207910318+0j)\n",
      "Probability of measuring |ψ2⟩ after measuring |+⟩ in this basis: (0.028595479208968343+0j)\n"
     ]
    }
   ],
   "source": [
    "#measure probabilities\n",
    "print(\"Probability of measuring |ψ1⟩ after measuring |+⟩ in this basis:\", state_vector[0]**2)\n",
    "print(\"Probability of measuring |ψ2⟩ after measuring |+⟩ in this basis:\", state_vector[1]**2)"
   ]
  },
  {
   "cell_type": "code",
   "execution_count": 26,
   "id": "52fa909b-3360-4a24-9334-7a42333b6542",
   "metadata": {},
   "outputs": [
    {
     "data": {
      "image/png": "[encoded data removed]",
      "text/plain": [
       "<Figure size 663.998x200.667 with 1 Axes>"
      ]
     },
     "execution_count": 26,
     "metadata": {},
     "output_type": "execute_result"
    }
   ],
   "source": [
    "# Draw the circuit diagram\n",
    "qc.draw(\"mpl\")"
   ]
  },
  {
   "cell_type": "markdown",
   "id": "79077051-f850-43dd-807b-329ebfc17412",
   "metadata": {},
   "source": [
    "### VERIFICATION USING MULTIPLE SHOTS"
   ]
  },
  {
   "cell_type": "code",
   "execution_count": 27,
   "id": "29db0a7f-b79f-4fb6-9bd2-ffa625bafc3b",
   "metadata": {},
   "outputs": [
    {
     "data": {
      "image/png": "[encoded data removed]",
      "text/plain": [
       "<Figure size 700x500 with 1 Axes>"
      ]
     },
     "execution_count": 27,
     "metadata": {},
     "output_type": "execute_result"
    }
   ],
   "source": [
    "plot_histogram(result.get_counts())"
   ]
  },
  {
   "cell_type": "code",
   "execution_count": 28,
   "id": "082bee84-3ad4-4fe0-823b-c6927aa89349",
   "metadata": {},
   "outputs": [
    {
     "name": "stdout",
     "output_type": "stream",
     "text": [
      "0.0265\n"
     ]
    }
   ],
   "source": [
    "print((result.get_counts()['1']/s))"
   ]
  },
  {
   "cell_type": "code",
   "execution_count": 29,
   "id": "e76d3039-4a3f-4a08-82cf-85517e231382",
   "metadata": {},
   "outputs": [
    {
     "name": "stdout",
     "output_type": "stream",
     "text": [
      "0.9735\n"
     ]
    }
   ],
   "source": [
    "print((result.get_counts()['0']/s))"
   ]
  },
  {
   "cell_type": "markdown",
   "id": "d7ea3885-ad3f-442e-bbb0-054256637f42",
   "metadata": {},
   "source": [
    "### TRANSPILATION"
   ]
  },
  {
   "cell_type": "code",
   "execution_count": 19,
   "id": "1ead8be6-188b-491e-bcfd-5c58297765ca",
   "metadata": {},
   "outputs": [],
   "source": [
    "from qiskit.transpiler.preset_passmanagers import generate_preset_pass_manager \n",
    "pm = generate_preset_pass_manager(optimization_level=1, basis_gates=['x','sx','rz','id','ecr'])"
   ]
  },
  {
   "cell_type": "code",
   "execution_count": 21,
   "id": "67fc166f-3b90-4a7c-a14e-0d238f0d8b0d",
   "metadata": {},
   "outputs": [
    {
     "data": {
      "text/plain": [
       "<qiskit.circuit.instructionset.InstructionSet at 0x7c12ace76470>"
      ]
     },
     "execution_count": 21,
     "metadata": {},
     "output_type": "execute_result"
    }
   ],
   "source": [
    "qc2=QuantumCircuit(2)\n",
    "qc2.h(0)\n",
    "qc2.cx(0,1)"
   ]
  },
  {
   "cell_type": "code",
   "execution_count": 22,
   "id": "49c2c60d-031f-4d69-92da-d663a792e884",
   "metadata": {},
   "outputs": [
    {
     "data": {
      "image/png": "[encoded data removed]",
      "text/plain": [
       "<Figure size 287.294x200.667 with 1 Axes>"
      ]
     },
     "execution_count": 22,
     "metadata": {},
     "output_type": "execute_result"
    }
   ],
   "source": [
    "qc2.draw(\"mpl\")"
   ]
  },
  {
   "cell_type": "code",
   "execution_count": 23,
   "id": "962f037a-35a0-436e-9e6a-917ec763602b",
   "metadata": {},
   "outputs": [
    {
     "data": {
      "image/png": "[encoded data removed]",
      "text/plain": [
       "<Figure size 538.128x200.667 with 1 Axes>"
      ]
     },
     "execution_count": 23,
     "metadata": {},
     "output_type": "execute_result"
    }
   ],
   "source": [
    "trans_qc2 = pm.run(qc2)\n",
    "trans_qc2.draw(\"mpl\")"
   ]
  }
 ],
 "metadata": {
  "kernelspec": {
   "display_name": "Python 3 (ipykernel)",
   "language": "python",
   "name": "python3"
  },
  "language_info": {
   "codemirror_mode": {
    "name": "ipython",
    "version": 3
   },
   "file_extension": ".py",
   "mimetype": "text/x-python",
   "name": "python",
   "nbconvert_exporter": "python",
   "pygments_lexer": "ipython3",
   "version": "3.12.2"
  }
 },
 "nbformat": 4,
 "nbformat_minor": 5
}
