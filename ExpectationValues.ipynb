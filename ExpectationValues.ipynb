{
 "cells": [
  {
   "cell_type": "markdown",
   "id": "08d0293e-6202-42b6-a575-c2ed84df2efc",
   "metadata": {},
   "source": [
    "# IMPORTING NECESSARY LIBRARIES"
   ]
  },
  {
   "cell_type": "code",
   "execution_count": 27,
   "id": "a9547314-d31b-41a6-bc40-96f815113b8c",
   "metadata": {},
   "outputs": [],
   "source": [
    "import numpy as np\n",
    "from qiskit import QuantumCircuit\n",
    "from qiskit.visualization import plot_histogram, circuit_drawer, plot_state_qsphere\n",
    "from qiskit_aer import AerSimulator\n",
    "from qiskit_aer.noise import pauli_error, NoiseModel, depolarizing_error\n",
    "from qiskit.transpiler.preset_passmanagers import generate_preset_pass_manager\n",
    "from qiskit.quantum_info import Statevector, Kraus, SuperOp\n",
    "from qiskit_ibm_runtime import SamplerV2"
   ]
  },
  {
   "cell_type": "markdown",
   "id": "d36eeb8e-82c1-4db6-973f-2d69c73010e2",
   "metadata": {},
   "source": [
    "# CIRCUIT CREATION"
   ]
  },
  {
   "cell_type": "code",
   "execution_count": 35,
   "id": "d240460a-3b90-4f38-947c-6b8173ef06f8",
   "metadata": {},
   "outputs": [
    {
     "data": {
      "image/png": "[encoded data removed]",
      "text/plain": [
       "<Figure size 519.897x200.667 with 1 Axes>"
      ]
     },
     "execution_count": 35,
     "metadata": {},
     "output_type": "execute_result"
    }
   ],
   "source": [
    "qc = QuantumCircuit(1,1)\n",
    "alpha = np.sqrt(3/10)\n",
    "beta = np.sqrt(7/10)\n",
    "qc.initialize([alpha, beta], 0)\n",
    "qc.save_statevector()\n",
    "qc.measure(0,0)\n",
    "qc.draw('mpl')"
   ]
  },
  {
   "cell_type": "markdown",
   "id": "925619d9-635e-4a20-b9fe-88310d71084b",
   "metadata": {},
   "source": [
    "# THEORETICAL EXPECTATION VALUE"
   ]
  },
  {
   "cell_type": "code",
   "execution_count": 36,
   "id": "a1631486-522c-48ef-8d19-1bc8c3816f77",
   "metadata": {},
   "outputs": [
    {
     "name": "stdout",
     "output_type": "stream",
     "text": [
      "Expectation value (theoretically) : -0.40000000000000013\n"
     ]
    }
   ],
   "source": [
    "print(f\"Expectation value (theoretically) : {alpha**2 - beta**2}\")"
   ]
  },
  {
   "cell_type": "markdown",
   "id": "7cbf84e5-e96e-4ece-b419-7e500deaafa2",
   "metadata": {},
   "source": [
    "# COUNTING FREQUENCIES USING SHOTS"
   ]
  },
  {
   "cell_type": "code",
   "execution_count": 37,
   "id": "771f809b-a55a-4167-a32a-94ac5c7172e3",
   "metadata": {},
   "outputs": [
    {
     "data": {
      "image/png": "[encoded data removed]",
      "text/plain": [
       "<Figure size 700x500 with 1 Axes>"
      ]
     },
     "execution_count": 37,
     "metadata": {},
     "output_type": "execute_result"
    }
   ],
   "source": [
    "sim = AerSimulator()\n",
    "result = sim.run(qc, shots=10000).result()\n",
    "plot_histogram(result.get_counts(0))"
   ]
  },
  {
   "cell_type": "markdown",
   "id": "9b744ff0-12ae-41fd-8f0e-771c0e1ddc00",
   "metadata": {},
   "source": [
    "# CALCULATING EXPECTATION VALUES"
   ]
  },
  {
   "cell_type": "code",
   "execution_count": 32,
   "id": "f8e27779-4c5b-4bcb-a90d-a2bb66138c3b",
   "metadata": {},
   "outputs": [
    {
     "name": "stdout",
     "output_type": "stream",
     "text": [
      "Expectation Value : -0.4026\n"
     ]
    }
   ],
   "source": [
    "zero = result.get_counts(0)['0']\n",
    "one = result.get_counts(0)['1']\n",
    "expectation_value = (zero - one)/10000\n",
    "print(f\"Expectation Value : {expectation_value}\")"
   ]
  },
  {
   "cell_type": "markdown",
   "id": "6a7abf35-a496-4c1c-896e-52a927d91196",
   "metadata": {},
   "source": [
    "# STATEVECTOR"
   ]
  },
  {
   "cell_type": "code",
   "execution_count": 42,
   "id": "2fb119b8-562b-4bd1-a1f8-95df85a75cb3",
   "metadata": {},
   "outputs": [
    {
     "data": {
      "text/latex": [
       "$$\\frac{\\sqrt{30}}{10} |0\\rangle+\\frac{\\sqrt{70}}{10} |1\\rangle$$"
      ],
      "text/plain": [
       "<IPython.core.display.Latex object>"
      ]
     },
     "execution_count": 42,
     "metadata": {},
     "output_type": "execute_result"
    }
   ],
   "source": [
    "result.get_statevector().draw('latex')"
   ]
  },
  {
   "cell_type": "markdown",
   "id": "12f15dc4-fe07-4d00-96fe-cd60ec4d472b",
   "metadata": {},
   "source": [
    "#### GIVEN STATE :"
   ]
  },
  {
   "cell_type": "markdown",
   "id": "fe346b1f-5693-47a0-87fb-3030b2124785",
   "metadata": {},
   "source": [
    "$$|\\psi\\rangle = \\sqrt{\\frac{3}{10}}|0\\rangle + \\sqrt{\\frac{7}{10}}|1\\rangle$$"
   ]
  },
  {
   "cell_type": "markdown",
   "id": "b59be184-4f0d-4f43-9bbe-d149b4d23b61",
   "metadata": {},
   "source": [
    "#### EXPECTATION VALUE :"
   ]
  },
  {
   "cell_type": "markdown",
   "id": "b8a8fb73-ec5b-456a-86c2-946ecc19831f",
   "metadata": {},
   "source": [
    "$$E = \\langle\\psi| Z |\\psi\\rangle$$"
   ]
  },
  {
   "cell_type": "markdown",
   "id": "f6de977a-c9ca-4b3b-8b7c-d0b7d10df010",
   "metadata": {},
   "source": [
    "$$Z = |0\\rangle\\langle0| - |1\\rangle\\langle1|$$ "
   ]
  },
  {
   "cell_type": "markdown",
   "id": "720446b7-1027-437c-8d84-e81c17fab1d5",
   "metadata": {},
   "source": [
    "$$E = (\\sqrt{\\frac{3}{10}}\\langle0| + \\sqrt{\\frac{7}{10}}\\langle1|)(|0\\rangle\\langle0| - |1\\rangle\\langle1|)(\\sqrt{\\frac{3}{10}}|0\\rangle + \\sqrt{\\frac{7}{10}}|1\\rangle)$$"
   ]
  },
  {
   "cell_type": "markdown",
   "id": "b0867956-9b68-4d0a-b8e6-8d76748aff44",
   "metadata": {},
   "source": [
    "$$E = (\\sqrt{\\frac{3}{10}}\\langle0| + \\sqrt{\\frac{7}{10}}\\langle1|)(\\sqrt{\\frac{3}{10}}|0\\rangle\\langle0|+\\sqrt{\\frac{7}{10}}|0\\rangle\\langle1|-\\sqrt{\\frac{3}{10}}|1\\rangle\\langle0|-\\sqrt{\\frac{7}{10}}|1\\rangle\\langle1|)$$"
   ]
  },
  {
   "cell_type": "markdown",
   "id": "82fb5552-eafc-46b6-9718-76c87aeab7c7",
   "metadata": {},
   "source": [
    "$$E = (\\sqrt{\\frac{3}{10}}|0\\rangle + \\sqrt{\\frac{7}{10}}|1\\rangle)(\\sqrt{\\frac{3}{10}}|0\\rangle\\langle0|) - (\\sqrt{\\frac{3}{10}}|0\\rangle + \\sqrt{\\frac{7}{10}}|1\\rangle)(\\sqrt{\\frac{7}{10}}|1\\rangle\\langle1|)$$"
   ]
  },
  {
   "cell_type": "markdown",
   "id": "fd5fc347-380f-474e-a79d-cc416041d39d",
   "metadata": {},
   "source": [
    "$$E=\\frac{3}{10}\\langle0|0\\rangle\\langle0|0\\rangle - \\frac{7}{10}\\langle1|1\\rangle\\langle1|1\\rangle$$"
   ]
  },
  {
   "cell_type": "markdown",
   "id": "c0fde46d-9751-4442-8eb7-ce763644b1d0",
   "metadata": {},
   "source": [
    "$$E =\\frac{3}{10} - \\frac{7}{10}$$ "
   ]
  },
  {
   "cell_type": "markdown",
   "id": "78bb6c66-a461-4f2c-9f6f-5830a74bdbb2",
   "metadata": {},
   "source": [
    "$$E = \\frac{4}{10}$$"
   ]
  },
  {
   "cell_type": "markdown",
   "id": "21f0a910-0c70-451b-9b38-f43a8bc15073",
   "metadata": {},
   "source": [
    "#### EXPECTATION VALUE :"
   ]
  },
  {
   "cell_type": "markdown",
   "id": "9103df43-dc70-4ba7-8a26-dd2011fd238a",
   "metadata": {},
   "source": [
    "$$ E = Tr(Z|\\psi\\rangle\\langle\\psi|)$$"
   ]
  },
  {
   "cell_type": "markdown",
   "id": "82d51c6c-c1d5-4447-af8e-1aa1d0b76c4f",
   "metadata": {},
   "source": [
    "#### EXPECTATION VALUE :"
   ]
  },
  {
   "cell_type": "markdown",
   "id": "ba92be99-394e-4577-bf1e-4df67d6bc77b",
   "metadata": {},
   "source": [
    "$$ E = Tr(|0\\rangle\\langle0|\\psi\\rangle\\langle\\psi|) - Tr(|1\\rangle\\langle1|\\psi\\rangle\\langle\\psi|)$$"
   ]
  },
  {
   "cell_type": "markdown",
   "id": "24407924-7276-467d-9c06-25b0dc83cf02",
   "metadata": {},
   "source": [
    "$$E = \\langle0|\\psi|0\\rangle - \\langle1|\\psi|1\\rangle$$"
   ]
  },
  {
   "cell_type": "markdown",
   "id": "63058f4b-ac48-48ac-ba6d-62c3de66d5ab",
   "metadata": {},
   "source": [
    "$$E = prob(0) - prob(1)$$"
   ]
  },
  {
   "cell_type": "markdown",
   "id": "400d3d2c-87f1-48df-a73a-9041517be693",
   "metadata": {},
   "source": [
    "# RUNNING ON BACKEND"
   ]
  },
  {
   "cell_type": "code",
   "execution_count": 4,
   "id": "39eaff04-f824-4c55-b1d9-d0a407d30563",
   "metadata": {},
   "outputs": [],
   "source": [
    "from qiskit_ibm_runtime import QiskitRuntimeService\n",
    "MY_TOKEN = '5d00a533cc46cc02eca65a5aa42cf20809da6d1d4cf9120d40131979ea9daaca37d51499493382e5b5ee5c56bae06bcc4b2c31b3e52e17f4abd3f7e7ac1412cd'\n",
    "service = QiskitRuntimeService(channel='ibm_quantum', instance='ibm-q/open/main', token=MY_TOKEN)"
   ]
  },
  {
   "cell_type": "code",
   "execution_count": 5,
   "id": "557038db-ca99-48f1-ad56-07c43e2272e7",
   "metadata": {},
   "outputs": [
    {
     "data": {
      "text/plain": [
       "[<IBMBackend('ibm_sherbrooke')>,\n",
       " <IBMBackend('ibm_brisbane')>,\n",
       " <IBMBackend('ibm_kyoto')>,\n",
       " <IBMBackend('ibm_osaka')>]"
      ]
     },
     "execution_count": 5,
     "metadata": {},
     "output_type": "execute_result"
    }
   ],
   "source": [
    "service.backends()"
   ]
  },
  {
   "cell_type": "code",
   "execution_count": 6,
   "id": "099f4ab7-00ba-46ca-b21a-8616e82cdefb",
   "metadata": {},
   "outputs": [],
   "source": [
    "backend = service.get_backend('ibm_osaka')\n",
    "sampler = SamplerV2(backend = backend)\n",
    "pm = generate_preset_pass_manager(optimization_level=3, backend=backend)\n",
    "q_circuit = pm.run(qc)"
   ]
  },
  {
   "cell_type": "code",
   "execution_count": 8,
   "id": "25f007d6-6b06-4416-bb01-58079ccb0e36",
   "metadata": {},
   "outputs": [],
   "source": [
    "job = sampler.run([q_circuit])\n",
    "job_id = job.job_id()"
   ]
  },
  {
   "cell_type": "code",
   "execution_count": 9,
   "id": "72d59f20-6294-4c12-9850-d779774df116",
   "metadata": {},
   "outputs": [
    {
     "name": "stdout",
     "output_type": "stream",
     "text": [
      "ct6dj81wmw20008w61cg\n"
     ]
    }
   ],
   "source": [
    "print(job_id)"
   ]
  }
 ],
 "metadata": {
  "kernelspec": {
   "display_name": "Python 3 (ipykernel)",
   "language": "python",
   "name": "python3"
  },
  "language_info": {
   "codemirror_mode": {
    "name": "ipython",
    "version": 3
   },
   "file_extension": ".py",
   "mimetype": "text/x-python",
   "name": "python",
   "nbconvert_exporter": "python",
   "pygments_lexer": "ipython3",
   "version": "3.12.2"
  }
 },
 "nbformat": 4,
 "nbformat_minor": 5
}
