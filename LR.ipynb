{
 "cells": [
  {
   "cell_type": "markdown",
   "id": "0c716d1d-b20c-48dd-9594-95e783b1c083",
   "metadata": {},
   "source": [
    "# IMPORTING NECESSARY LIBRARIES"
   ]
  },
  {
   "cell_type": "markdown",
   "id": "49e27e81-630f-4586-9df3-921b4dee8013",
   "metadata": {},
   "source": [
    "Create a virtual environment and activate it (using 'conda activate _envname_' command ). Install the latest version of Python, latest version of qiskit (qiskit 1.0.2), networkx library, other libraries for ML and data visualisation like sklearn, matplotlib, numpy, in this virtual environment. "
   ]
  },
  {
   "cell_type": "code",
   "execution_count": null,
   "id": "a281973e-c37e-4083-92ca-f79a87663ffa",
   "metadata": {},
   "outputs": [],
   "source": [
    "import numpy as np\n",
    "from qiskit import QuantumCircuit\n",
    "from qiskit.visualization import plot_histogram, circuit_drawer, plot_state_qsphere\n",
    "from qiskit_aer import AerSimulator\n",
    "from qiskit_aer.noise import pauli_error, NoiseModel, depolarizing_error\n",
    "from qiskit.transpiler.preset_passmanagers import generate_preset_pass_manager\n",
    "from qiskit.quantum_info import Statevector, Kraus, SuperOp\n",
    "from qiskit_ibm_runtime import SamplerV2"
   ]
  },
  {
   "cell_type": "code",
   "execution_count": null,
   "id": "90a69432-c14e-446b-876f-e3dab96d7750",
   "metadata": {},
   "outputs": [],
   "source": [
    "import networkx as nx"
   ]
  },
  {
   "cell_type": "code",
   "execution_count": null,
   "id": "febaab81-b466-4f3a-a48e-dda86f9df176",
   "metadata": {},
   "outputs": [],
   "source": [
    "from qiskit.circuit import ParameterVector"
   ]
  },
  {
   "cell_type": "markdown",
   "id": "24a7be2e-15a2-4dd6-b970-1c9e88723cef",
   "metadata": {},
   "source": [
    "The function for QAOA circuit for a MaxCut graph (to be generated later) is defined. It takes initial parameters, number of nodes of graph and the Graph as input. The initial parameters are random and includes both beta and gamma parameter values. Let d be the depth of QAOA, then len(initial parameters) = 2*d."
   ]
  },
  {
   "cell_type": "code",
   "execution_count": null,
   "id": "42a0841e-39c6-4f44-aa05-853ff5b67f5f",
   "metadata": {},
   "outputs": [],
   "source": [
    "def create_qaoa_circuit(params, n, G):\n",
    "    p = len(params) // 2\n",
    "    beta = params[:p]\n",
    "    gamma = params[p:]\n",
    "    \n",
    "    qc = QuantumCircuit(n, n)\n",
    "    \n",
    "    # Initial layer of Hadamard gates\n",
    "    for qubit in range(n):\n",
    "        qc.h(qubit)\n",
    "    \n",
    "    for i in range(p):\n",
    "        for edge in G.edges():\n",
    "            qc.rzz(2 * gamma[i], edge[0], edge[1])\n",
    "        for qubit in range(n):\n",
    "            qc.rx(2 * beta[i], qubit)\n",
    "    \n",
    "    qc.measure(range(n), range(n))\n",
    "    return qc"
   ]
  },
  {
   "cell_type": "markdown",
   "id": "76014609-c2a9-4a25-8a26-ab290561af82",
   "metadata": {},
   "source": [
    "Expectation value for every instance of QAOA is calculated for a fixed d."
   ]
  },
  {
   "cell_type": "code",
   "execution_count": null,
   "id": "43fb6626-813a-4947-84a6-3b5ddb0edb4b",
   "metadata": {},
   "outputs": [],
   "source": [
    "# Function to compute the expectation value\n",
    "def get_expectation_value(counts):\n",
    "    value = 0\n",
    "    for bitstring, count in counts.items():\n",
    "        bit_val = np.array([1 if bit == '1' else -1 for bit in bitstring])\n",
    "        value += sum(bit_val) * count\n",
    "    return value / sum(counts.values())"
   ]
  },
  {
   "cell_type": "markdown",
   "id": "b1546c70-7f68-48fc-af9f-fe64061db938",
   "metadata": {},
   "source": [
    "Contains the updated code, compatible with Qiskit 1.0.2. No other code snippets available online are compatible with the recent version of qiskit."
   ]
  },
  {
   "cell_type": "code",
   "execution_count": null,
   "id": "a0ec2f3b-202b-409d-a403-33b6744ce74c",
   "metadata": {},
   "outputs": [],
   "source": [
    "# Function to be minimized by the classical optimizer\n",
    "def objective_function(params, n_nodes, graph):\n",
    "    qc = create_qaoa_circuit(params, n_nodes, graph)\n",
    "    backend = AerSimulator()\n",
    "    result = backend.run(qc, shots=1024).result()\n",
    "    counts = result.get_counts()\n",
    "    return get_expectation_value(counts)"
   ]
  },
  {
   "cell_type": "markdown",
   "id": "b1fc6197-a240-46bc-91ef-866e7273d00d",
   "metadata": {},
   "source": [
    "Synthetic data for one MAxcut Graph is generated"
   ]
  },
  {
   "cell_type": "code",
   "execution_count": null,
   "id": "c9862f87-1b8a-4163-8b62-04a183bded31",
   "metadata": {},
   "outputs": [],
   "source": [
    "from scipy.optimize import minimize\n",
    "# Generate synthetic data for training\n",
    "def generate_data(num_graphs, num_samples, n_nodes):\n",
    "    X = []\n",
    "    y = []\n",
    "    depth =6\n",
    "\n",
    "    for ___ in range (num_graphs):\n",
    "        # Create random graph\n",
    "        graph = nx.erdos_renyi_graph(n_nodes, 0.5)\n",
    "        for _ in range(num_samples):\n",
    "            # Random initial parameters\n",
    "            init_params = np.random.rand(2 * depth) * np.pi\n",
    "            \n",
    "            # Optimize parameters using L-BFGS-B\n",
    "            result = minimize(objective_function, init_params, args=(n_nodes, graph), method=\"L-BFGS-B\")\n",
    "            \n",
    "            # Store the optimal parameters and the expectation value\n",
    "            X.append(result.x)\n",
    "            y.append(-result.fun)\n",
    "    \n",
    "    return np.array(X), np.array(y)\n"
   ]
  },
  {
   "cell_type": "markdown",
   "id": "7ee86d15-c6e7-4901-9838-e06ebe47fada",
   "metadata": {},
   "source": [
    "1 random MaxCut Graph with 8 nodes and node probability=0.5 is generated and 100 QAOA instances for the same are obtained, with expectation values of corresponding QAOA instance. Depth is set to 6."
   ]
  },
  {
   "cell_type": "code",
   "execution_count": null,
   "id": "5b95a704-4939-4787-b811-52b361cd4c47",
   "metadata": {},
   "outputs": [],
   "source": [
    "n_nodes = 8\n",
    "num_samples = 6\n",
    "num_graphs = 330\n",
    "# Generate and split data\n",
    "import time\n",
    "#start = time.time()\n",
    "X, y = generate_data(num_graphs, num_samples, n_nodes)\n",
    "#end = time.time()"
   ]
  },
  {
   "cell_type": "code",
   "execution_count": null,
   "id": "8930e7f5-4c14-4ce5-9c84-a4817282bbfc",
   "metadata": {},
   "outputs": [],
   "source": [
    "# Print the collected data\n",
    "print(\"Collected optimal parameters and expectation values:\")\n",
    "print(X)\n",
    "print(y)"
   ]
  },
  {
   "cell_type": "code",
   "execution_count": null,
   "id": "31769067-89fc-4234-a9eb-61541cfa2265",
   "metadata": {},
   "outputs": [],
   "source": [
    "X"
   ]
  },
  {
   "cell_type": "code",
   "execution_count": null,
   "id": "7dfda935-2c3f-4cac-8c3e-2ac0601febe6",
   "metadata": {},
   "outputs": [],
   "source": [
    "X.shape"
   ]
  },
  {
   "cell_type": "code",
   "execution_count": null,
   "id": "1cf6af90-1c32-41f3-9170-8f4365461f2d",
   "metadata": {},
   "outputs": [],
   "source": [
    "y"
   ]
  },
  {
   "cell_type": "code",
   "execution_count": null,
   "id": "292f3572-7876-4417-a9bf-9504011db828",
   "metadata": {},
   "outputs": [],
   "source": [
    "y.shape"
   ]
  }
 ],
 "metadata": {
  "kernelspec": {
   "display_name": "Python 3 (ipykernel)",
   "language": "python",
   "name": "python3"
  },
  "language_info": {
   "codemirror_mode": {
    "name": "ipython",
    "version": 3
   },
   "file_extension": ".py",
   "mimetype": "text/x-python",
   "name": "python",
   "nbconvert_exporter": "python",
   "pygments_lexer": "ipython3",
   "version": "3.12.2"
  }
 },
 "nbformat": 4,
 "nbformat_minor": 5
}
